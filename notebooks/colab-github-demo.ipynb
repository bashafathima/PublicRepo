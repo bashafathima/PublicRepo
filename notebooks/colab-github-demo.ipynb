{
  "cells": [
    {
      "cell_type": "markdown",
      "metadata": {
        "id": "view-in-github",
        "colab_type": "text"
      },
      "source": [
        "<a href=\"https://colab.research.google.com/github/bashafathima/PublicRepo/blob/main/notebooks/colab-github-demo.ipynb\" target=\"_parent\"><img src=\"https://colab.research.google.com/assets/colab-badge.svg\" alt=\"Open In Colab\"/></a>"
      ]
    },
    {
      "cell_type": "markdown",
      "metadata": {
        "id": "-pVhOfzLx9us"
      },
      "source": [
        "\n",
        "\n"
      ]
    },
    {
      "cell_type": "code",
      "execution_count": null,
      "metadata": {
        "colab": {
          "base_uri": "https://localhost:8080/"
        },
        "id": "3VQqVi-3ScBC",
        "outputId": "f61d8db2-77df-42de-c532-106f11e1994f"
      },
      "outputs": [
        {
          "output_type": "stream",
          "name": "stdout",
          "text": [
            "2931\n",
            "odd\n"
          ]
        }
      ],
      "source": [
        "num = int(input())\n",
        "if(num %2)==0:\n",
        "  print (\"Even\")\n",
        "else:\n",
        "  print(\"odd\")\n"
      ]
    },
    {
      "cell_type": "code",
      "source": [
        "lst = int(input())\n",
        "N=[]\n",
        "for i in range(1,4):\n",
        "  output=lst*i\n",
        "  N.append(output)\n",
        "print(*N)"
      ],
      "metadata": {
        "id": "rv7jtfSNNKp7",
        "outputId": "948af8dc-d8fe-496c-f1c1-acb3dc989871",
        "colab": {
          "base_uri": "https://localhost:8080/"
        }
      },
      "execution_count": null,
      "outputs": [
        {
          "output_type": "stream",
          "name": "stdout",
          "text": [
            "2\n",
            "2 4 6\n"
          ]
        }
      ]
    },
    {
      "cell_type": "code",
      "source": [
        "Fact = int(input())\n",
        "factorial =1\n",
        "if Fact <0:\n",
        "  print(\"Negative number\")\n",
        "elif Fact==0:\n",
        "  print(\"Factorial 0 is 1 \")\n",
        "else:\n",
        "  for i in range(1, Fact+1):\n",
        "    factorial=factorial*i\n",
        "  print(\"Factorial number of \",Fact,\"is\", factorial)\n"
      ],
      "metadata": {
        "id": "GTPdfdlGJ_E0",
        "outputId": "03547c39-35e9-4dbf-b961-d00fd0424092",
        "colab": {
          "base_uri": "https://localhost:8080/"
        }
      },
      "execution_count": null,
      "outputs": [
        {
          "output_type": "stream",
          "name": "stdout",
          "text": [
            "4\n",
            "Factorial number of  4 is 24\n"
          ]
        }
      ]
    },
    {
      "cell_type": "code",
      "source": [
        "import math\n",
        "pi= 22/7\n",
        "radius=float(input())\n",
        "circumference = 2*pi*radius\n",
        "Radius =round(circumference,2)\n",
        "if(Radius<0):\n",
        "  print(\"Error\")\n",
        "else:\n",
        "  print(Radius)"
      ],
      "metadata": {
        "id": "QIGXt3Ly6Tdg",
        "outputId": "060f2073-8b59-4d7f-a346-63d8e9881273",
        "colab": {
          "base_uri": "https://localhost:8080/"
        }
      },
      "execution_count": null,
      "outputs": [
        {
          "output_type": "stream",
          "name": "stdout",
          "text": [
            "0\n",
            "0.0\n"
          ]
        }
      ]
    },
    {
      "cell_type": "code",
      "source": [
        "no_of_lines=3\n",
        "lines =\"\"\n",
        "for i in range(no_of_lines):\n",
        "  lines += input()+\"\\n\"\n",
        "lst=list(lines)\n",
        "print(max(lst))"
      ],
      "metadata": {
        "id": "XKCnslg13Knp"
      },
      "execution_count": null,
      "outputs": []
    },
    {
      "cell_type": "code",
      "source": [
        "import math\n",
        "def gcd(a, b):\n",
        "  result = min(a,b)\n",
        "  while result:\n",
        "    if a % result ==0 and b % result== 0:\n",
        "      break\n",
        "    result -=1\n",
        "  return result\n",
        "\n",
        "first_para = int(input())\n",
        "second_para = int(input())\n",
        "gcd_value = gcd(first_para,second_para)\n",
        "print(gcd_value)\n"
      ],
      "metadata": {
        "id": "aczgTzoSZzBX",
        "outputId": "726842c5-16e2-4f7f-d5ae-875766d71dbc",
        "colab": {
          "base_uri": "https://localhost:8080/"
        }
      },
      "execution_count": 1,
      "outputs": [
        {
          "output_type": "stream",
          "name": "stdout",
          "text": [
            "12\n",
            "18\n",
            "6\n"
          ]
        }
      ]
    }
  ],
  "metadata": {
    "colab": {
      "name": "colab-github-demo.ipynb",
      "provenance": [],
      "include_colab_link": true
    },
    "kernelspec": {
      "display_name": "Python 3",
      "name": "python3"
    }
  },
  "nbformat": 4,
  "nbformat_minor": 0
}