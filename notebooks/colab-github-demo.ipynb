{
  "cells": [
    {
      "cell_type": "markdown",
      "metadata": {
        "id": "view-in-github",
        "colab_type": "text"
      },
      "source": [
        "<a href=\"https://colab.research.google.com/github/bashafathima/PublicRepo/blob/main/notebooks/colab-github-demo.ipynb\" target=\"_parent\"><img src=\"https://colab.research.google.com/assets/colab-badge.svg\" alt=\"Open In Colab\"/></a>"
      ]
    },
    {
      "cell_type": "markdown",
      "metadata": {
        "id": "-pVhOfzLx9us"
      },
      "source": [
        "\n",
        "\n"
      ]
    },
    {
      "cell_type": "code",
      "execution_count": null,
      "metadata": {
        "colab": {
          "base_uri": "https://localhost:8080/"
        },
        "id": "3VQqVi-3ScBC",
        "outputId": "f61d8db2-77df-42de-c532-106f11e1994f"
      },
      "outputs": [
        {
          "output_type": "stream",
          "name": "stdout",
          "text": [
            "2931\n",
            "odd\n"
          ]
        }
      ],
      "source": [
        "num = int(input())\n",
        "if(num %2)==0:\n",
        "  print (\"Even\")\n",
        "else:\n",
        "  print(\"odd\")\n"
      ]
    },
    {
      "cell_type": "code",
      "source": [
        "lst = int(input())\n",
        "N=[]\n",
        "for i in range(1,4):\n",
        "  output=lst*i\n",
        "  N.append(output)\n",
        "print(*N)"
      ],
      "metadata": {
        "id": "rv7jtfSNNKp7",
        "outputId": "948af8dc-d8fe-496c-f1c1-acb3dc989871",
        "colab": {
          "base_uri": "https://localhost:8080/"
        }
      },
      "execution_count": null,
      "outputs": [
        {
          "output_type": "stream",
          "name": "stdout",
          "text": [
            "2\n",
            "2 4 6\n"
          ]
        }
      ]
    },
    {
      "cell_type": "code",
      "source": [
        "Fact = int(input())\n",
        "factorial =1\n",
        "if Fact <0:\n",
        "  print(\"Negative number\")\n",
        "elif Fact==0:\n",
        "  print(\"Factorial 0 is 1 \")\n",
        "else:\n",
        "  for i in range(1, Fact+1):\n",
        "    factorial=factorial*i\n",
        "  print(\"Factorial number of \",Fact,\"is\", factorial)\n"
      ],
      "metadata": {
        "id": "GTPdfdlGJ_E0",
        "outputId": "03547c39-35e9-4dbf-b961-d00fd0424092",
        "colab": {
          "base_uri": "https://localhost:8080/"
        }
      },
      "execution_count": null,
      "outputs": [
        {
          "output_type": "stream",
          "name": "stdout",
          "text": [
            "4\n",
            "Factorial number of  4 is 24\n"
          ]
        }
      ]
    },
    {
      "cell_type": "code",
      "source": [
        "import math\n",
        "pi= 22/7\n",
        "radius=float(input())\n",
        "circumference = 2*pi*radius\n",
        "Radius =round(circumference,2)\n",
        "if(Radius<0):\n",
        "  print(\"Error\")\n",
        "else:\n",
        "  print(Radius)"
      ],
      "metadata": {
        "id": "QIGXt3Ly6Tdg",
        "outputId": "060f2073-8b59-4d7f-a346-63d8e9881273",
        "colab": {
          "base_uri": "https://localhost:8080/"
        }
      },
      "execution_count": null,
      "outputs": [
        {
          "output_type": "stream",
          "name": "stdout",
          "text": [
            "0\n",
            "0.0\n"
          ]
        }
      ]
    },
    {
      "cell_type": "code",
      "source": [
        "no_of_lines=3\n",
        "lines =\"\"\n",
        "for i in range(no_of_lines):\n",
        "  lines += input()+\"\\n\"\n",
        "lines+=lines +\",\"\n",
        "lst=list(lines)\n",
        "print(lines)\n",
        "print(max(lst))"
      ],
      "metadata": {
        "id": "XKCnslg13Knp",
        "outputId": "4b9ad5c9-4d9c-4266-80b9-2e7333a4e06f",
        "colab": {
          "base_uri": "https://localhost:8080/"
        }
      },
      "execution_count": 4,
      "outputs": [
        {
          "output_type": "stream",
          "name": "stdout",
          "text": [
            "-3\n",
            "0\n",
            "-11\n",
            "-3\n",
            "0\n",
            "-11\n",
            "\n",
            "3\n"
          ]
        }
      ]
    },
    {
      "cell_type": "code",
      "source": [
        "import math\n",
        "def gcd(a, b):\n",
        "  result = min(a,b)\n",
        "  while result:\n",
        "    if a % result ==0 and b % result== 0:\n",
        "      break\n",
        "    result -=1\n",
        "  return result\n",
        "\n",
        "first_para = int(input())\n",
        "second_para = int(input())\n",
        "gcd_value = gcd(first_para,second_para)\n",
        "print(gcd_value)\n"
      ],
      "metadata": {
        "colab": {
          "base_uri": "https://localhost:8080/"
        },
        "id": "aczgTzoSZzBX",
        "outputId": "726842c5-16e2-4f7f-d5ae-875766d71dbc"
      },
      "execution_count": null,
      "outputs": [
        {
          "output_type": "stream",
          "name": "stdout",
          "text": [
            "12\n",
            "18\n",
            "6\n"
          ]
        }
      ]
    },
    {
      "cell_type": "code",
      "source": [
        "# Return the factorial of n.\n",
        "N = int(input())\n",
        "Fact=1\n",
        "for i in range(1, N+1):\n",
        "  Fact=Fact*i\n",
        "\n",
        "print(Fact)\n"
      ],
      "metadata": {
        "id": "Q00BiWd8gVCn",
        "outputId": "9fef1130-f1ef-4150-da89-87586275a6e3",
        "colab": {
          "base_uri": "https://localhost:8080/"
        }
      },
      "execution_count": null,
      "outputs": [
        {
          "output_type": "stream",
          "name": "stdout",
          "text": [
            "5\n",
            "120\n"
          ]
        }
      ]
    },
    {
      "cell_type": "code",
      "source": [
        "# 2nd example factorial\n",
        "def factorial(n):\n",
        "  if(n==1):\n",
        "    return n\n",
        "  else:\n",
        "    n= n* factorial(n-1)\n",
        "  return n\n",
        "factorial(5)\n"
      ],
      "metadata": {
        "id": "L0ei0aXDpY2y",
        "outputId": "e20a688a-7de6-4a9a-f494-fa9c02099962",
        "colab": {
          "base_uri": "https://localhost:8080/"
        }
      },
      "execution_count": null,
      "outputs": [
        {
          "output_type": "execute_result",
          "data": {
            "text/plain": [
              "120"
            ]
          },
          "metadata": {},
          "execution_count": 14
        }
      ]
    },
    {
      "cell_type": "code",
      "source": [
        "age =list(map(int,input().split(' ')))\n",
        "print(type(age))\n",
        "print(age)"
      ],
      "metadata": {
        "id": "aYc2sr0ViEsY",
        "outputId": "658eca7d-2f68-4f71-bef7-24314c2a4c57",
        "colab": {
          "base_uri": "https://localhost:8080/"
        }
      },
      "execution_count": null,
      "outputs": [
        {
          "output_type": "stream",
          "name": "stdout",
          "text": [
            "12 35\n",
            "<class 'list'>\n",
            "[12, 35]\n"
          ]
        }
      ]
    },
    {
      "cell_type": "code",
      "source": [
        "var= input()\n",
        "deli = \",\"\n",
        "temp=list(map(str,var))\n",
        "res=deli.join(temp)\n",
        "print(type(res))\n",
        "print(res)"
      ],
      "metadata": {
        "id": "UT772pZPrHx9",
        "outputId": "d007ec33-3531-4bb4-eae9-08720aad4da3",
        "colab": {
          "base_uri": "https://localhost:8080/"
        }
      },
      "execution_count": null,
      "outputs": [
        {
          "output_type": "stream",
          "name": "stdout",
          "text": [
            "guvi\n",
            "<class 'str'>\n",
            "g,u,v,i\n"
          ]
        }
      ]
    },
    {
      "cell_type": "code",
      "source": [
        "no_of_lines=3\n",
        "lines =\"\"\n",
        "for i in range(no_of_lines):\n",
        "  lines += input()+\"\\n\"\n",
        "\n",
        "lst=str(lines)\n",
        "lst2 = list(map)\n",
        "print(max(lst))\n"
      ],
      "metadata": {
        "id": "XeKtB-Mixh0F",
        "outputId": "480c58a8-3117-403f-f986-9506fdcf2577",
        "colab": {
          "base_uri": "https://localhost:8080/"
        }
      },
      "execution_count": null,
      "outputs": [
        {
          "output_type": "stream",
          "name": "stdout",
          "text": [
            "-3\n",
            "0\n",
            "-11\n",
            "3\n"
          ]
        }
      ]
    },
    {
      "cell_type": "code",
      "source": [
        "positives = []   # list for positive numbers\n",
        "finished = False\n",
        "\n",
        "while not finished:\n",
        "    print('Enter a number (0 to finish): ', end = '')\n",
        "    num = int(input())\n",
        "    if num > 0:\n",
        "        positives.append(num)\n",
        "    elif num < 0:\n",
        "       positives.append(num)\n",
        "    else:\n",
        "        finished = True\n",
        "\n",
        "print('Max positive number: ', max(positives))"
      ],
      "metadata": {
        "id": "l7Myy2gC1PuV",
        "outputId": "a0fdc9f3-9c58-434a-840c-bb7dbc61d22c",
        "colab": {
          "base_uri": "https://localhost:8080/"
        }
      },
      "execution_count": null,
      "outputs": [
        {
          "output_type": "stream",
          "name": "stdout",
          "text": [
            "Enter a number (0 to finish): -11\n",
            "Enter a number (0 to finish): -2\n",
            "Enter a number (0 to finish): -3\n",
            "Enter a number (0 to finish): 0\n",
            "Max positive number:  -2\n"
          ]
        }
      ]
    }
  ],
  "metadata": {
    "colab": {
      "name": "colab-github-demo.ipynb",
      "provenance": [],
      "include_colab_link": true
    },
    "kernelspec": {
      "display_name": "Python 3",
      "name": "python3"
    }
  },
  "nbformat": 4,
  "nbformat_minor": 0
}